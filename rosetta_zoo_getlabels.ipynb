{
 "cells": [
  {
   "cell_type": "markdown",
   "id": "1797f572-3271-4a9a-993a-f6311c2f7838",
   "metadata": {},
   "source": [
    "# Download OSIRIS labels"
   ]
  },
  {
   "cell_type": "code",
   "execution_count": 1,
   "id": "ca16894b-e724-409a-996d-e36e2a6603bb",
   "metadata": {},
   "outputs": [],
   "source": [
    "from psa_utils import download, tap"
   ]
  },
  {
   "cell_type": "markdown",
   "id": "160578cf-745c-40c3-8710-abc1e9ce7cc6",
   "metadata": {},
   "source": [
    "Build a query to look for level 3 NAC data at 67P. Note that PSA processing level 3 = EPN-TAP level 5!"
   ]
  },
  {
   "cell_type": "code",
   "execution_count": 2,
   "id": "e466e04b-31f7-4336-8b08-fdabaec84a37",
   "metadata": {},
   "outputs": [],
   "source": [
    "query = \"\"\"\n",
    "        instrument_name='OSIRIS' and \n",
    "        target_name='67P' and \n",
    "        processing_level = 5 and\n",
    "        granule_gid like 'RO-C-OSINAC%' and\n",
    "        granule_uid like '%.FIT'\n",
    "        \"\"\""
   ]
  },
  {
   "cell_type": "markdown",
   "id": "490cc796-7a8e-4069-8fae-a7bf434e7755",
   "metadata": {},
   "source": [
    "First count the results and make sure it's sane"
   ]
  },
  {
   "cell_type": "code",
   "execution_count": 3,
   "id": "a5464869-ad61-446e-8051-b8995c336c32",
   "metadata": {},
   "outputs": [
    {
     "data": {
      "text/html": [
       "<div>\n",
       "<style scoped>\n",
       "    .dataframe tbody tr th:only-of-type {\n",
       "        vertical-align: middle;\n",
       "    }\n",
       "\n",
       "    .dataframe tbody tr th {\n",
       "        vertical-align: top;\n",
       "    }\n",
       "\n",
       "    .dataframe thead th {\n",
       "        text-align: right;\n",
       "    }\n",
       "</style>\n",
       "<table border=\"1\" class=\"dataframe\">\n",
       "  <thead>\n",
       "    <tr style=\"text-align: right;\">\n",
       "      <th></th>\n",
       "      <th>count</th>\n",
       "    </tr>\n",
       "  </thead>\n",
       "  <tbody>\n",
       "    <tr>\n",
       "      <th>0</th>\n",
       "      <td>35171</td>\n",
       "    </tr>\n",
       "  </tbody>\n",
       "</table>\n",
       "</div>"
      ],
      "text/plain": [
       "   count\n",
       "0  35171"
      ]
     },
     "execution_count": 3,
     "metadata": {},
     "output_type": "execute_result"
    }
   ],
   "source": [
    "t = tap.PsaTap()\n",
    "t.query('select count (1) from epn_core where {:s}'.format(query))"
   ]
  },
  {
   "cell_type": "markdown",
   "id": "5df4a7ca-282c-4789-9cd8-5fa0c677e920",
   "metadata": {},
   "source": [
    "Now download _just the labels_ of the FITS files (no need to download the data)"
   ]
  },
  {
   "cell_type": "code",
   "execution_count": 4,
   "id": "71f1dcaf-1f7d-491c-990e-66c758bb202e",
   "metadata": {},
   "outputs": [],
   "source": [
    "download.download_labels_by_query(\n",
    "    query='select * from epn_core where {:s}'.format(query),\n",
    "    output_dir='./labels/')"
   ]
  },
  {
   "cell_type": "code",
   "execution_count": null,
   "id": "eeef9350-4b8a-4273-8249-5cdf3dd35b79",
   "metadata": {},
   "outputs": [],
   "source": []
  }
 ],
 "metadata": {
  "interpreter": {
   "hash": "cbec5aaf3570bdfe80c576c69ffa0640a9a3a55f603210947005c1371248e451"
  },
  "kernelspec": {
   "display_name": "Python 3 (ipykernel)",
   "language": "python",
   "name": "python3"
  },
  "language_info": {
   "codemirror_mode": {
    "name": "ipython",
    "version": 3
   },
   "file_extension": ".py",
   "mimetype": "text/x-python",
   "name": "python",
   "nbconvert_exporter": "python",
   "pygments_lexer": "ipython3",
   "version": "3.8.12"
  }
 },
 "nbformat": 4,
 "nbformat_minor": 5
}
