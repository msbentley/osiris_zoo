{
 "cells": [
  {
   "cell_type": "markdown",
   "id": "d9a989f8-f917-46dc-aafd-bbdbba82c798",
   "metadata": {},
   "source": [
    "# Try to find good pairs of images for comparison"
   ]
  },
  {
   "cell_type": "code",
   "execution_count": 1,
   "id": "41f6dd88-6832-480c-8d9c-a35da5998d7d",
   "metadata": {},
   "outputs": [],
   "source": [
    "import IPython.display as display\n",
    "import ipywidgets as widgets\n",
    "from astropy.io import fits\n",
    "import math\n",
    "import os\n",
    "import matplotlib.pyplot as plt\n",
    "import pickle\n",
    "import pandas as pd\n",
    "import numpy as np\n",
    "from datetime import datetime\n",
    "\n",
    "%matplotlib inline"
   ]
  },
  {
   "cell_type": "code",
   "execution_count": 2,
   "id": "be69e0a4-50c7-4e24-81fa-1334bd3555ac",
   "metadata": {},
   "outputs": [],
   "source": [
    "data_path = '/media/mbentley/b182700e-67bc-47d5-9ee6-a98b2e94c806/rosetta_zoo/labels/'"
   ]
  },
  {
   "cell_type": "markdown",
   "id": "4646a2d6-2ca1-46ce-8ab4-4ea70152f271",
   "metadata": {},
   "source": [
    "## Load the data"
   ]
  },
  {
   "cell_type": "code",
   "execution_count": 3,
   "id": "ef7a7e65-1afd-4462-b434-9d3e04e4e0d2",
   "metadata": {},
   "outputs": [],
   "source": [
    "images = pd.read_csv(os.path.join(data_path, 'osinac_metadata.csv.gz'))"
   ]
  },
  {
   "cell_type": "code",
   "execution_count": 4,
   "id": "46f1b24c-8a52-4b66-a8a7-ab2faef34164",
   "metadata": {},
   "outputs": [],
   "source": [
    "images.start_time = pd.to_datetime(images.start_time)\n",
    "images.stop_time = pd.to_datetime(images.stop_time)"
   ]
  },
  {
   "cell_type": "code",
   "execution_count": 5,
   "id": "c9a3c773-830e-4c49-a113-a63c91aedb43",
   "metadata": {},
   "outputs": [
    {
     "data": {
      "text/plain": [
       "10345"
      ]
     },
     "execution_count": 5,
     "metadata": {},
     "output_type": "execute_result"
    }
   ],
   "source": [
    "len(images)"
   ]
  },
  {
   "cell_type": "markdown",
   "id": "2fbb767e-3947-49ac-b919-76b9c7a8369f",
   "metadata": {},
   "source": [
    "# Produce some pairs"
   ]
  },
  {
   "cell_type": "markdown",
   "id": "dde21917-4da1-487f-926f-a80101c27b3e",
   "metadata": {},
   "source": [
    "First try taking a few images pre-perihelion and comparing to after - this is not the only relevant set of comparisons, but let's give it a try:"
   ]
  },
  {
   "cell_type": "code",
   "execution_count": 6,
   "id": "100aab49-d235-45c4-80bd-1e17180748d8",
   "metadata": {},
   "outputs": [],
   "source": [
    "t_perihelion = pd.Timestamp('2015-08-13T02:03:00Z').to_datetime64()"
   ]
  },
  {
   "cell_type": "code",
   "execution_count": 7,
   "id": "df7f743d-a6ab-4ec5-92a6-eec31216ca65",
   "metadata": {},
   "outputs": [],
   "source": [
    "pre = images[images.start_time<t_perihelion]\n",
    "post = images[images.start_time>=t_perihelion]"
   ]
  },
  {
   "cell_type": "code",
   "execution_count": 8,
   "id": "7c47a43f-0380-4be1-a268-6dc68c62c934",
   "metadata": {},
   "outputs": [
    {
     "data": {
      "text/plain": [
       "(3994, 6351)"
      ]
     },
     "execution_count": 8,
     "metadata": {},
     "output_type": "execute_result"
    }
   ],
   "source": [
    "len(pre), len(post)"
   ]
  },
  {
   "cell_type": "markdown",
   "id": "a1fb16c0-b72e-4873-b5df-987ecffac3fd",
   "metadata": {},
   "source": [
    "Define a simple function to check for possible pairs:\n",
    "- check that the distance between the boresight intercepts is < half the first image width\n",
    "- put some constraints on the phase angle and and field of view etc."
   ]
  },
  {
   "cell_type": "code",
   "execution_count": 9,
   "id": "ade23bf3-8e06-4ddd-815d-d8d26c1bedc3",
   "metadata": {},
   "outputs": [],
   "source": [
    "def best_match(df1, df2, idx1):\n",
    "    matches = []\n",
    "    distance = []\n",
    "    img = df1.loc[idx1]\n",
    "    for idx, match in df2.iterrows():\n",
    "        \n",
    "        dist = math.sqrt( (match.surf_int_x-img.surf_int_x)**2 + (match.surf_int_y-img.surf_int_y)**2 + (match.surf_int_z-img.surf_int_z)**2 )\n",
    "        phase_diff = abs(img.phase_angle-match.phase_angle)\n",
    "        alt_diff = abs(img.sc_altitude-match.sc_altitude)\n",
    "        \n",
    "        # vec1 = np.array([match.sc_position_x, match.sc_position_y, match.sc_position_z])\n",
    "        # vec2 = np.array([img.sc_position_x, img.sc_position_y, img.sc_position_z])\n",
    "        # vector_diff = np.rad2deg(np.arccos( np.dot(vec1, vec2) / (np.linalg.norm(vec1)*np.linalg.norm(vec2))))\n",
    "        \n",
    "        if (dist < img.half_width/2.) and (alt_diff<5.) and (phase_diff<30.):\n",
    "            distance.append(dist)\n",
    "            matches.append(idx)\n",
    "            \n",
    "    if len(matches)>0:\n",
    "        return matches[distance.index(min(distance))], min(distance)\n",
    "    else:\n",
    "        return None, None"
   ]
  },
  {
   "cell_type": "markdown",
   "id": "6e1399eb-94ea-43a8-91ff-33d357c3c185",
   "metadata": {},
   "source": [
    "This now returns the index of the best match and the distance between the intercept point on the comet"
   ]
  },
  {
   "cell_type": "code",
   "execution_count": 10,
   "id": "13cf2acf-ea14-4828-9c04-787299d68453",
   "metadata": {},
   "outputs": [
    {
     "data": {
      "text/plain": [
       "(7362, 0.49732685429202395)"
      ]
     },
     "execution_count": 10,
     "metadata": {},
     "output_type": "execute_result"
    }
   ],
   "source": [
    "idx, dist = best_match(pre, post, 200)\n",
    "idx, dist"
   ]
  },
  {
   "cell_type": "markdown",
   "id": "3b6bbeff-f232-4677-97f0-4fc9ff65b468",
   "metadata": {},
   "source": [
    "Now let's look at these two images - we will use the browse image link to display the jpeg image streamed from the archive:"
   ]
  },
  {
   "cell_type": "code",
   "execution_count": 11,
   "id": "e5da545c-828a-45d7-b5dd-982e8c883427",
   "metadata": {},
   "outputs": [],
   "source": [
    "def show_pair(df1, df2, idx1, idx2=None):\n",
    "\n",
    "    if idx2 is None:\n",
    "        idx2, dist = best_match(df1, df2, idx1)\n",
    "        if idx2 is None:\n",
    "            print('No match found')\n",
    "            return\n",
    "\n",
    "    img1 = display.Image(df1.loc[idx1].browse_url)\n",
    "    img2 = display.Image(df2.loc[idx2].browse_url)\n",
    "    wi1 = widgets.Image(value=img1.data, format='jpg', width=400, height=400)\n",
    "    wi2 = widgets.Image(value=img2.data, format='jpg', width=400, height=400)\n",
    "    pair = widgets.HBox([wi1, wi2])\n",
    "    display.display(pair)"
   ]
  },
  {
   "cell_type": "code",
   "execution_count": 12,
   "id": "2ee030f0-cf60-48f4-b2f8-3c795316d240",
   "metadata": {},
   "outputs": [
    {
     "data": {
      "application/vnd.jupyter.widget-view+json": {
       "model_id": "4d4898883fce4550bc294a878ff22899",
       "version_major": 2,
       "version_minor": 0
      },
      "text/plain": [
       "HBox(children=(Image(value=b'\\xff\\xd8\\xff\\xe0\\x00\\x10JFIF\\x00\\x01\\x01\\x01\\x00`\\x00`\\x00\\x00\\xff\\xe1\\x00\\xf0Exi…"
      ]
     },
     "metadata": {},
     "output_type": "display_data"
    }
   ],
   "source": [
    "show_pair(pre, post, 200)"
   ]
  },
  {
   "cell_type": "markdown",
   "id": "e1a3da91-a6ae-4165-a488-f78ecc29581e",
   "metadata": {},
   "source": [
    "Loop through all pre-perihelion images and find the best post-perihleion image, if any.\n",
    "\n",
    "Note that this is not at all optimised, and running all the combinations is going to be slooow. "
   ]
  },
  {
   "cell_type": "code",
   "execution_count": 13,
   "id": "66c04962-a96b-4fd9-ae28-939ab5bbac90",
   "metadata": {},
   "outputs": [],
   "source": [
    "match_pre = []\n",
    "match_post = []"
   ]
  },
  {
   "cell_type": "code",
   "execution_count": 14,
   "id": "cb7faadf-451d-480a-ad92-1024dcbfd994",
   "metadata": {},
   "outputs": [],
   "source": [
    "for idx1 in pre.index:\n",
    "    idx2, dist = best_match(pre, post, idx1)\n",
    "    if idx2 is None:\n",
    "        continue\n",
    "    else:\n",
    "        match_pre.append(idx1)\n",
    "        match_post.append(idx2)"
   ]
  },
  {
   "cell_type": "code",
   "execution_count": 15,
   "id": "22a73727-1b7a-4fc8-8380-cd82bffb0492",
   "metadata": {},
   "outputs": [
    {
     "data": {
      "text/plain": [
       "3405"
      ]
     },
     "execution_count": 15,
     "metadata": {},
     "output_type": "execute_result"
    }
   ],
   "source": [
    "len(match_pre)"
   ]
  },
  {
   "cell_type": "code",
   "execution_count": 16,
   "id": "f438fe80-3266-4a5a-bb4d-494f055eb2e5",
   "metadata": {},
   "outputs": [
    {
     "data": {
      "application/vnd.jupyter.widget-view+json": {
       "model_id": "6a480aeaa3ae40d59a5c712a72176fda",
       "version_major": 2,
       "version_minor": 0
      },
      "text/plain": [
       "HBox(children=(Image(value=b'\\xff\\xd8\\xff\\xe0\\x00\\x10JFIF\\x00\\x01\\x01\\x01\\x00`\\x00`\\x00\\x00\\xff\\xe1\\x00\\xf0Exi…"
      ]
     },
     "metadata": {},
     "output_type": "display_data"
    }
   ],
   "source": [
    "idx = 500\n",
    "show_pair(pre, post, match_pre[idx], match_post[idx])"
   ]
  },
  {
   "cell_type": "code",
   "execution_count": 17,
   "id": "dbbe262e-dcfa-40b3-a760-8be76ddd551d",
   "metadata": {},
   "outputs": [
    {
     "data": {
      "application/vnd.jupyter.widget-view+json": {
       "model_id": "d85c3bf0d3514574bb04d81edf211144",
       "version_major": 2,
       "version_minor": 0
      },
      "text/plain": [
       "HBox(children=(Image(value=b'\\xff\\xd8\\xff\\xe0\\x00\\x10JFIF\\x00\\x01\\x01\\x01\\x00`\\x00`\\x00\\x00\\xff\\xe1\\x00\\xf0Exi…"
      ]
     },
     "metadata": {},
     "output_type": "display_data"
    }
   ],
   "source": [
    "idx = 5\n",
    "show_pair(pre, post, match_pre[idx], match_post[idx])"
   ]
  },
  {
   "cell_type": "code",
   "execution_count": null,
   "id": "886d9434-bcad-4e26-914a-9586870a3088",
   "metadata": {},
   "outputs": [],
   "source": []
  }
 ],
 "metadata": {
  "kernelspec": {
   "display_name": "zoo",
   "language": "python",
   "name": "zoo"
  },
  "language_info": {
   "codemirror_mode": {
    "name": "ipython",
    "version": 3
   },
   "file_extension": ".py",
   "mimetype": "text/x-python",
   "name": "python",
   "nbconvert_exporter": "python",
   "pygments_lexer": "ipython3",
   "version": "3.7.12"
  }
 },
 "nbformat": 4,
 "nbformat_minor": 5
}
