{
 "cells": [
  {
   "cell_type": "code",
   "execution_count": 18,
   "id": "b350eeb7-6953-4dbb-966f-1cfacdad41eb",
   "metadata": {},
   "outputs": [],
   "source": [
    "from dask import dataframe as dd\n",
    "import pandas as pd\n",
    "import os"
   ]
  },
  {
   "cell_type": "code",
   "execution_count": 3,
   "id": "908f6d2c-49ce-4509-85fc-bdf6348f17e8",
   "metadata": {},
   "outputs": [],
   "source": [
    "facet_path = '/home/mbentley/Desktop/test'\n",
    "facet_file = 'rosetta_facet_product_osiris.csv'\n",
    "facet_filepath = os.path.join(facet_path, facet_file)"
   ]
  },
  {
   "cell_type": "code",
   "execution_count": 4,
   "id": "f4bc6e62-01bb-496b-a30b-8968fcd47b6c",
   "metadata": {},
   "outputs": [],
   "source": [
    "data = dd.read_csv(facet_filepath, dtype={'facet_id':'int16', 'product_id':'category', 'instrument_id':'category'})"
   ]
  },
  {
   "cell_type": "code",
   "execution_count": 5,
   "id": "e61aa55f-0fc0-4325-9969-4422027e3ee1",
   "metadata": {},
   "outputs": [
    {
     "data": {
      "text/html": [
       "<div>\n",
       "<style scoped>\n",
       "    .dataframe tbody tr th:only-of-type {\n",
       "        vertical-align: middle;\n",
       "    }\n",
       "\n",
       "    .dataframe tbody tr th {\n",
       "        vertical-align: top;\n",
       "    }\n",
       "\n",
       "    .dataframe thead th {\n",
       "        text-align: right;\n",
       "    }\n",
       "</style>\n",
       "<table border=\"1\" class=\"dataframe\">\n",
       "  <thead>\n",
       "    <tr style=\"text-align: right;\">\n",
       "      <th></th>\n",
       "      <th>facet_id</th>\n",
       "      <th>product_id</th>\n",
       "      <th>instrument_id</th>\n",
       "    </tr>\n",
       "  </thead>\n",
       "  <tbody>\n",
       "    <tr>\n",
       "      <th>0</th>\n",
       "      <td>8035</td>\n",
       "      <td>N20151004T140446763ID50F22.IMG</td>\n",
       "      <td>OSINAC</td>\n",
       "    </tr>\n",
       "    <tr>\n",
       "      <th>1</th>\n",
       "      <td>8035</td>\n",
       "      <td>N20151004T140458809ID50F22.IMG</td>\n",
       "      <td>OSINAC</td>\n",
       "    </tr>\n",
       "    <tr>\n",
       "      <th>2</th>\n",
       "      <td>8035</td>\n",
       "      <td>N20151004T140946786ID50F22.IMG</td>\n",
       "      <td>OSINAC</td>\n",
       "    </tr>\n",
       "    <tr>\n",
       "      <th>3</th>\n",
       "      <td>8035</td>\n",
       "      <td>N20151004T140959804ID50F22.IMG</td>\n",
       "      <td>OSINAC</td>\n",
       "    </tr>\n",
       "    <tr>\n",
       "      <th>4</th>\n",
       "      <td>8035</td>\n",
       "      <td>N20151004T141011160ID50F24.IMG</td>\n",
       "      <td>OSINAC</td>\n",
       "    </tr>\n",
       "  </tbody>\n",
       "</table>\n",
       "</div>"
      ],
      "text/plain": [
       "   facet_id                      product_id instrument_id\n",
       "0      8035  N20151004T140446763ID50F22.IMG        OSINAC\n",
       "1      8035  N20151004T140458809ID50F22.IMG        OSINAC\n",
       "2      8035  N20151004T140946786ID50F22.IMG        OSINAC\n",
       "3      8035  N20151004T140959804ID50F22.IMG        OSINAC\n",
       "4      8035  N20151004T141011160ID50F24.IMG        OSINAC"
      ]
     },
     "execution_count": 5,
     "metadata": {},
     "output_type": "execute_result"
    }
   ],
   "source": [
    "data.head()"
   ]
  },
  {
   "cell_type": "code",
   "execution_count": 8,
   "id": "a6aa9c78-94d7-41f7-8054-f5ba0a031377",
   "metadata": {},
   "outputs": [],
   "source": [
    "data = data[data.instrument_id=='OSINAC']"
   ]
  },
  {
   "cell_type": "code",
   "execution_count": 9,
   "id": "1db28b92-4ea7-464e-8d56-d94080697c46",
   "metadata": {},
   "outputs": [],
   "source": [
    "data = data.drop(columns='instrument_id')"
   ]
  },
  {
   "cell_type": "code",
   "execution_count": 14,
   "id": "687f7bb5-ccb3-4230-84a6-ef6bc5bfb0b5",
   "metadata": {},
   "outputs": [],
   "source": [
    "data['date'] = data.product_id.apply(lambda id: id[1:9])"
   ]
  },
  {
   "cell_type": "code",
   "execution_count": 16,
   "id": "cc0c5e0f-0f0c-43e1-873a-6bd7fb2475b2",
   "metadata": {},
   "outputs": [],
   "source": [
    "data.date = dd.to_datetime(data.date)"
   ]
  },
  {
   "cell_type": "code",
   "execution_count": 19,
   "id": "8337ffad-4741-447e-9b4a-51821340c321",
   "metadata": {},
   "outputs": [],
   "source": [
    "perihelion = pd.Timestamp('13-08-2015')"
   ]
  },
  {
   "cell_type": "code",
   "execution_count": 47,
   "id": "e55c1be8-86be-4f3f-8333-90d2cb29aadd",
   "metadata": {},
   "outputs": [],
   "source": [
    "pre = data[(data.date<=perihelion) & (data.date>'2014-09-01')]\n",
    "post = data[data.date>perihelion]"
   ]
  },
  {
   "cell_type": "code",
   "execution_count": 49,
   "id": "7af008cd-981f-49b9-a439-654d7b907d29",
   "metadata": {},
   "outputs": [
    {
     "ename": "KeyboardInterrupt",
     "evalue": "",
     "output_type": "error",
     "traceback": [
      "\u001b[0;31m---------------------------------------------------------------------------\u001b[0m",
      "\u001b[0;31mKeyboardInterrupt\u001b[0m                         Traceback (most recent call last)",
      "\u001b[0;32m/tmp/ipykernel_17538/2977386752.py\u001b[0m in \u001b[0;36m<module>\u001b[0;34m\u001b[0m\n\u001b[0;32m----> 1\u001b[0;31m \u001b[0mlen\u001b[0m\u001b[0;34m(\u001b[0m\u001b[0mpre\u001b[0m\u001b[0;34m)\u001b[0m\u001b[0;34m,\u001b[0m \u001b[0mlen\u001b[0m\u001b[0;34m(\u001b[0m\u001b[0mpost\u001b[0m\u001b[0;34m)\u001b[0m\u001b[0;34m\u001b[0m\u001b[0;34m\u001b[0m\u001b[0m\n\u001b[0m",
      "\u001b[0;32m~/miniconda3/envs/zoo/lib/python3.7/site-packages/dask/dataframe/core.py\u001b[0m in \u001b[0;36m__len__\u001b[0;34m(self)\u001b[0m\n\u001b[1;32m   4093\u001b[0m             \u001b[0;32mreturn\u001b[0m \u001b[0msuper\u001b[0m\u001b[0;34m(\u001b[0m\u001b[0;34m)\u001b[0m\u001b[0;34m.\u001b[0m\u001b[0m__len__\u001b[0m\u001b[0;34m(\u001b[0m\u001b[0;34m)\u001b[0m\u001b[0;34m\u001b[0m\u001b[0;34m\u001b[0m\u001b[0m\n\u001b[1;32m   4094\u001b[0m         \u001b[0;32melse\u001b[0m\u001b[0;34m:\u001b[0m\u001b[0;34m\u001b[0m\u001b[0;34m\u001b[0m\u001b[0m\n\u001b[0;32m-> 4095\u001b[0;31m             \u001b[0;32mreturn\u001b[0m \u001b[0mlen\u001b[0m\u001b[0;34m(\u001b[0m\u001b[0ms\u001b[0m\u001b[0;34m)\u001b[0m\u001b[0;34m\u001b[0m\u001b[0;34m\u001b[0m\u001b[0m\n\u001b[0m\u001b[1;32m   4096\u001b[0m \u001b[0;34m\u001b[0m\u001b[0m\n\u001b[1;32m   4097\u001b[0m     \u001b[0;32mdef\u001b[0m \u001b[0m__contains__\u001b[0m\u001b[0;34m(\u001b[0m\u001b[0mself\u001b[0m\u001b[0;34m,\u001b[0m \u001b[0mkey\u001b[0m\u001b[0;34m)\u001b[0m\u001b[0;34m:\u001b[0m\u001b[0;34m\u001b[0m\u001b[0;34m\u001b[0m\u001b[0m\n",
      "\u001b[0;32m~/miniconda3/envs/zoo/lib/python3.7/site-packages/dask/dataframe/core.py\u001b[0m in \u001b[0;36m__len__\u001b[0;34m(self)\u001b[0m\n\u001b[1;32m    583\u001b[0m     \u001b[0;32mdef\u001b[0m \u001b[0m__len__\u001b[0m\u001b[0;34m(\u001b[0m\u001b[0mself\u001b[0m\u001b[0;34m)\u001b[0m\u001b[0;34m:\u001b[0m\u001b[0;34m\u001b[0m\u001b[0;34m\u001b[0m\u001b[0m\n\u001b[1;32m    584\u001b[0m         return self.reduction(\n\u001b[0;32m--> 585\u001b[0;31m             \u001b[0mlen\u001b[0m\u001b[0;34m,\u001b[0m \u001b[0mnp\u001b[0m\u001b[0;34m.\u001b[0m\u001b[0msum\u001b[0m\u001b[0;34m,\u001b[0m \u001b[0mtoken\u001b[0m\u001b[0;34m=\u001b[0m\u001b[0;34m\"len\"\u001b[0m\u001b[0;34m,\u001b[0m \u001b[0mmeta\u001b[0m\u001b[0;34m=\u001b[0m\u001b[0mint\u001b[0m\u001b[0;34m,\u001b[0m \u001b[0msplit_every\u001b[0m\u001b[0;34m=\u001b[0m\u001b[0;32mFalse\u001b[0m\u001b[0;34m\u001b[0m\u001b[0;34m\u001b[0m\u001b[0m\n\u001b[0m\u001b[1;32m    586\u001b[0m         ).compute()\n\u001b[1;32m    587\u001b[0m \u001b[0;34m\u001b[0m\u001b[0m\n",
      "\u001b[0;32m~/miniconda3/envs/zoo/lib/python3.7/site-packages/dask/base.py\u001b[0m in \u001b[0;36mcompute\u001b[0;34m(self, **kwargs)\u001b[0m\n\u001b[1;32m    286\u001b[0m         \u001b[0mdask\u001b[0m\u001b[0;34m.\u001b[0m\u001b[0mbase\u001b[0m\u001b[0;34m.\u001b[0m\u001b[0mcompute\u001b[0m\u001b[0;34m\u001b[0m\u001b[0;34m\u001b[0m\u001b[0m\n\u001b[1;32m    287\u001b[0m         \"\"\"\n\u001b[0;32m--> 288\u001b[0;31m         \u001b[0;34m(\u001b[0m\u001b[0mresult\u001b[0m\u001b[0;34m,\u001b[0m\u001b[0;34m)\u001b[0m \u001b[0;34m=\u001b[0m \u001b[0mcompute\u001b[0m\u001b[0;34m(\u001b[0m\u001b[0mself\u001b[0m\u001b[0;34m,\u001b[0m \u001b[0mtraverse\u001b[0m\u001b[0;34m=\u001b[0m\u001b[0;32mFalse\u001b[0m\u001b[0;34m,\u001b[0m \u001b[0;34m**\u001b[0m\u001b[0mkwargs\u001b[0m\u001b[0;34m)\u001b[0m\u001b[0;34m\u001b[0m\u001b[0;34m\u001b[0m\u001b[0m\n\u001b[0m\u001b[1;32m    289\u001b[0m         \u001b[0;32mreturn\u001b[0m \u001b[0mresult\u001b[0m\u001b[0;34m\u001b[0m\u001b[0;34m\u001b[0m\u001b[0m\n\u001b[1;32m    290\u001b[0m \u001b[0;34m\u001b[0m\u001b[0m\n",
      "\u001b[0;32m~/miniconda3/envs/zoo/lib/python3.7/site-packages/dask/base.py\u001b[0m in \u001b[0;36mcompute\u001b[0;34m(traverse, optimize_graph, scheduler, get, *args, **kwargs)\u001b[0m\n\u001b[1;32m    569\u001b[0m         \u001b[0mpostcomputes\u001b[0m\u001b[0;34m.\u001b[0m\u001b[0mappend\u001b[0m\u001b[0;34m(\u001b[0m\u001b[0mx\u001b[0m\u001b[0;34m.\u001b[0m\u001b[0m__dask_postcompute__\u001b[0m\u001b[0;34m(\u001b[0m\u001b[0;34m)\u001b[0m\u001b[0;34m)\u001b[0m\u001b[0;34m\u001b[0m\u001b[0;34m\u001b[0m\u001b[0m\n\u001b[1;32m    570\u001b[0m \u001b[0;34m\u001b[0m\u001b[0m\n\u001b[0;32m--> 571\u001b[0;31m     \u001b[0mresults\u001b[0m \u001b[0;34m=\u001b[0m \u001b[0mschedule\u001b[0m\u001b[0;34m(\u001b[0m\u001b[0mdsk\u001b[0m\u001b[0;34m,\u001b[0m \u001b[0mkeys\u001b[0m\u001b[0;34m,\u001b[0m \u001b[0;34m**\u001b[0m\u001b[0mkwargs\u001b[0m\u001b[0;34m)\u001b[0m\u001b[0;34m\u001b[0m\u001b[0;34m\u001b[0m\u001b[0m\n\u001b[0m\u001b[1;32m    572\u001b[0m     \u001b[0;32mreturn\u001b[0m \u001b[0mrepack\u001b[0m\u001b[0;34m(\u001b[0m\u001b[0;34m[\u001b[0m\u001b[0mf\u001b[0m\u001b[0;34m(\u001b[0m\u001b[0mr\u001b[0m\u001b[0;34m,\u001b[0m \u001b[0;34m*\u001b[0m\u001b[0ma\u001b[0m\u001b[0;34m)\u001b[0m \u001b[0;32mfor\u001b[0m \u001b[0mr\u001b[0m\u001b[0;34m,\u001b[0m \u001b[0;34m(\u001b[0m\u001b[0mf\u001b[0m\u001b[0;34m,\u001b[0m \u001b[0ma\u001b[0m\u001b[0;34m)\u001b[0m \u001b[0;32min\u001b[0m \u001b[0mzip\u001b[0m\u001b[0;34m(\u001b[0m\u001b[0mresults\u001b[0m\u001b[0;34m,\u001b[0m \u001b[0mpostcomputes\u001b[0m\u001b[0;34m)\u001b[0m\u001b[0;34m]\u001b[0m\u001b[0;34m)\u001b[0m\u001b[0;34m\u001b[0m\u001b[0;34m\u001b[0m\u001b[0m\n\u001b[1;32m    573\u001b[0m \u001b[0;34m\u001b[0m\u001b[0m\n",
      "\u001b[0;32m~/miniconda3/envs/zoo/lib/python3.7/site-packages/dask/threaded.py\u001b[0m in \u001b[0;36mget\u001b[0;34m(dsk, result, cache, num_workers, pool, **kwargs)\u001b[0m\n\u001b[1;32m     85\u001b[0m         \u001b[0mget_id\u001b[0m\u001b[0;34m=\u001b[0m\u001b[0m_thread_get_id\u001b[0m\u001b[0;34m,\u001b[0m\u001b[0;34m\u001b[0m\u001b[0;34m\u001b[0m\u001b[0m\n\u001b[1;32m     86\u001b[0m         \u001b[0mpack_exception\u001b[0m\u001b[0;34m=\u001b[0m\u001b[0mpack_exception\u001b[0m\u001b[0;34m,\u001b[0m\u001b[0;34m\u001b[0m\u001b[0;34m\u001b[0m\u001b[0m\n\u001b[0;32m---> 87\u001b[0;31m         \u001b[0;34m**\u001b[0m\u001b[0mkwargs\u001b[0m\u001b[0;34m,\u001b[0m\u001b[0;34m\u001b[0m\u001b[0;34m\u001b[0m\u001b[0m\n\u001b[0m\u001b[1;32m     88\u001b[0m     )\n\u001b[1;32m     89\u001b[0m \u001b[0;34m\u001b[0m\u001b[0m\n",
      "\u001b[0;32m~/miniconda3/envs/zoo/lib/python3.7/site-packages/dask/local.py\u001b[0m in \u001b[0;36mget_async\u001b[0;34m(submit, num_workers, dsk, result, cache, get_id, rerun_exceptions_locally, pack_exception, raise_exception, callbacks, dumps, loads, chunksize, **kwargs)\u001b[0m\n\u001b[1;32m    494\u001b[0m             \u001b[0;32mwhile\u001b[0m \u001b[0mstate\u001b[0m\u001b[0;34m[\u001b[0m\u001b[0;34m\"waiting\"\u001b[0m\u001b[0;34m]\u001b[0m \u001b[0;32mor\u001b[0m \u001b[0mstate\u001b[0m\u001b[0;34m[\u001b[0m\u001b[0;34m\"ready\"\u001b[0m\u001b[0;34m]\u001b[0m \u001b[0;32mor\u001b[0m \u001b[0mstate\u001b[0m\u001b[0;34m[\u001b[0m\u001b[0;34m\"running\"\u001b[0m\u001b[0;34m]\u001b[0m\u001b[0;34m:\u001b[0m\u001b[0;34m\u001b[0m\u001b[0;34m\u001b[0m\u001b[0m\n\u001b[1;32m    495\u001b[0m                 \u001b[0mfire_tasks\u001b[0m\u001b[0;34m(\u001b[0m\u001b[0mchunksize\u001b[0m\u001b[0;34m)\u001b[0m\u001b[0;34m\u001b[0m\u001b[0;34m\u001b[0m\u001b[0m\n\u001b[0;32m--> 496\u001b[0;31m                 \u001b[0;32mfor\u001b[0m \u001b[0mkey\u001b[0m\u001b[0;34m,\u001b[0m \u001b[0mres_info\u001b[0m\u001b[0;34m,\u001b[0m \u001b[0mfailed\u001b[0m \u001b[0;32min\u001b[0m \u001b[0mqueue_get\u001b[0m\u001b[0;34m(\u001b[0m\u001b[0mqueue\u001b[0m\u001b[0;34m)\u001b[0m\u001b[0;34m.\u001b[0m\u001b[0mresult\u001b[0m\u001b[0;34m(\u001b[0m\u001b[0;34m)\u001b[0m\u001b[0;34m:\u001b[0m\u001b[0;34m\u001b[0m\u001b[0;34m\u001b[0m\u001b[0m\n\u001b[0m\u001b[1;32m    497\u001b[0m                     \u001b[0;32mif\u001b[0m \u001b[0mfailed\u001b[0m\u001b[0;34m:\u001b[0m\u001b[0;34m\u001b[0m\u001b[0;34m\u001b[0m\u001b[0m\n\u001b[1;32m    498\u001b[0m                         \u001b[0mexc\u001b[0m\u001b[0;34m,\u001b[0m \u001b[0mtb\u001b[0m \u001b[0;34m=\u001b[0m \u001b[0mloads\u001b[0m\u001b[0;34m(\u001b[0m\u001b[0mres_info\u001b[0m\u001b[0;34m)\u001b[0m\u001b[0;34m\u001b[0m\u001b[0;34m\u001b[0m\u001b[0m\n",
      "\u001b[0;32m~/miniconda3/envs/zoo/lib/python3.7/site-packages/dask/local.py\u001b[0m in \u001b[0;36mqueue_get\u001b[0;34m(q)\u001b[0m\n\u001b[1;32m    132\u001b[0m \u001b[0;34m\u001b[0m\u001b[0m\n\u001b[1;32m    133\u001b[0m     \u001b[0;32mdef\u001b[0m \u001b[0mqueue_get\u001b[0m\u001b[0;34m(\u001b[0m\u001b[0mq\u001b[0m\u001b[0;34m)\u001b[0m\u001b[0;34m:\u001b[0m\u001b[0;34m\u001b[0m\u001b[0;34m\u001b[0m\u001b[0m\n\u001b[0;32m--> 134\u001b[0;31m         \u001b[0;32mreturn\u001b[0m \u001b[0mq\u001b[0m\u001b[0;34m.\u001b[0m\u001b[0mget\u001b[0m\u001b[0;34m(\u001b[0m\u001b[0;34m)\u001b[0m\u001b[0;34m\u001b[0m\u001b[0;34m\u001b[0m\u001b[0m\n\u001b[0m\u001b[1;32m    135\u001b[0m \u001b[0;34m\u001b[0m\u001b[0m\n\u001b[1;32m    136\u001b[0m \u001b[0;34m\u001b[0m\u001b[0m\n",
      "\u001b[0;32m~/miniconda3/envs/zoo/lib/python3.7/queue.py\u001b[0m in \u001b[0;36mget\u001b[0;34m(self, block, timeout)\u001b[0m\n\u001b[1;32m    168\u001b[0m             \u001b[0;32melif\u001b[0m \u001b[0mtimeout\u001b[0m \u001b[0;32mis\u001b[0m \u001b[0;32mNone\u001b[0m\u001b[0;34m:\u001b[0m\u001b[0;34m\u001b[0m\u001b[0;34m\u001b[0m\u001b[0m\n\u001b[1;32m    169\u001b[0m                 \u001b[0;32mwhile\u001b[0m \u001b[0;32mnot\u001b[0m \u001b[0mself\u001b[0m\u001b[0;34m.\u001b[0m\u001b[0m_qsize\u001b[0m\u001b[0;34m(\u001b[0m\u001b[0;34m)\u001b[0m\u001b[0;34m:\u001b[0m\u001b[0;34m\u001b[0m\u001b[0;34m\u001b[0m\u001b[0m\n\u001b[0;32m--> 170\u001b[0;31m                     \u001b[0mself\u001b[0m\u001b[0;34m.\u001b[0m\u001b[0mnot_empty\u001b[0m\u001b[0;34m.\u001b[0m\u001b[0mwait\u001b[0m\u001b[0;34m(\u001b[0m\u001b[0;34m)\u001b[0m\u001b[0;34m\u001b[0m\u001b[0;34m\u001b[0m\u001b[0m\n\u001b[0m\u001b[1;32m    171\u001b[0m             \u001b[0;32melif\u001b[0m \u001b[0mtimeout\u001b[0m \u001b[0;34m<\u001b[0m \u001b[0;36m0\u001b[0m\u001b[0;34m:\u001b[0m\u001b[0;34m\u001b[0m\u001b[0;34m\u001b[0m\u001b[0m\n\u001b[1;32m    172\u001b[0m                 \u001b[0;32mraise\u001b[0m \u001b[0mValueError\u001b[0m\u001b[0;34m(\u001b[0m\u001b[0;34m\"'timeout' must be a non-negative number\"\u001b[0m\u001b[0;34m)\u001b[0m\u001b[0;34m\u001b[0m\u001b[0;34m\u001b[0m\u001b[0m\n",
      "\u001b[0;32m~/miniconda3/envs/zoo/lib/python3.7/threading.py\u001b[0m in \u001b[0;36mwait\u001b[0;34m(self, timeout)\u001b[0m\n\u001b[1;32m    294\u001b[0m         \u001b[0;32mtry\u001b[0m\u001b[0;34m:\u001b[0m    \u001b[0;31m# restore state no matter what (e.g., KeyboardInterrupt)\u001b[0m\u001b[0;34m\u001b[0m\u001b[0;34m\u001b[0m\u001b[0m\n\u001b[1;32m    295\u001b[0m             \u001b[0;32mif\u001b[0m \u001b[0mtimeout\u001b[0m \u001b[0;32mis\u001b[0m \u001b[0;32mNone\u001b[0m\u001b[0;34m:\u001b[0m\u001b[0;34m\u001b[0m\u001b[0;34m\u001b[0m\u001b[0m\n\u001b[0;32m--> 296\u001b[0;31m                 \u001b[0mwaiter\u001b[0m\u001b[0;34m.\u001b[0m\u001b[0macquire\u001b[0m\u001b[0;34m(\u001b[0m\u001b[0;34m)\u001b[0m\u001b[0;34m\u001b[0m\u001b[0;34m\u001b[0m\u001b[0m\n\u001b[0m\u001b[1;32m    297\u001b[0m                 \u001b[0mgotit\u001b[0m \u001b[0;34m=\u001b[0m \u001b[0;32mTrue\u001b[0m\u001b[0;34m\u001b[0m\u001b[0;34m\u001b[0m\u001b[0m\n\u001b[1;32m    298\u001b[0m             \u001b[0;32melse\u001b[0m\u001b[0;34m:\u001b[0m\u001b[0;34m\u001b[0m\u001b[0;34m\u001b[0m\u001b[0m\n",
      "\u001b[0;31mKeyboardInterrupt\u001b[0m: "
     ]
    }
   ],
   "source": [
    "len(pre), len(post)"
   ]
  },
  {
   "cell_type": "code",
   "execution_count": 22,
   "id": "8068cd4e-2011-469d-b70c-a27c2b737da5",
   "metadata": {},
   "outputs": [
    {
     "data": {
      "text/html": [
       "<div>\n",
       "<style scoped>\n",
       "    .dataframe tbody tr th:only-of-type {\n",
       "        vertical-align: middle;\n",
       "    }\n",
       "\n",
       "    .dataframe tbody tr th {\n",
       "        vertical-align: top;\n",
       "    }\n",
       "\n",
       "    .dataframe thead th {\n",
       "        text-align: right;\n",
       "    }\n",
       "</style>\n",
       "<table border=\"1\" class=\"dataframe\">\n",
       "  <thead>\n",
       "    <tr style=\"text-align: right;\">\n",
       "      <th></th>\n",
       "      <th>facet_id</th>\n",
       "      <th>product_id</th>\n",
       "      <th>date</th>\n",
       "    </tr>\n",
       "  </thead>\n",
       "  <tbody>\n",
       "    <tr>\n",
       "      <th>1979</th>\n",
       "      <td>8036</td>\n",
       "      <td>N20140320T023010669ID30F22.IMG</td>\n",
       "      <td>2014-03-20</td>\n",
       "    </tr>\n",
       "    <tr>\n",
       "      <th>1980</th>\n",
       "      <td>8036</td>\n",
       "      <td>N20140323T034557545ID4DF22.IMG</td>\n",
       "      <td>2014-03-23</td>\n",
       "    </tr>\n",
       "    <tr>\n",
       "      <th>1981</th>\n",
       "      <td>8036</td>\n",
       "      <td>N20140323T040657539ID4DF22.IMG</td>\n",
       "      <td>2014-03-23</td>\n",
       "    </tr>\n",
       "    <tr>\n",
       "      <th>1982</th>\n",
       "      <td>8036</td>\n",
       "      <td>N20140323T042757530ID4DF22.IMG</td>\n",
       "      <td>2014-03-23</td>\n",
       "    </tr>\n",
       "    <tr>\n",
       "      <th>1983</th>\n",
       "      <td>8036</td>\n",
       "      <td>N20140323T044857585ID4DF22.IMG</td>\n",
       "      <td>2014-03-23</td>\n",
       "    </tr>\n",
       "  </tbody>\n",
       "</table>\n",
       "</div>"
      ],
      "text/plain": [
       "      facet_id                      product_id       date\n",
       "1979      8036  N20140320T023010669ID30F22.IMG 2014-03-20\n",
       "1980      8036  N20140323T034557545ID4DF22.IMG 2014-03-23\n",
       "1981      8036  N20140323T040657539ID4DF22.IMG 2014-03-23\n",
       "1982      8036  N20140323T042757530ID4DF22.IMG 2014-03-23\n",
       "1983      8036  N20140323T044857585ID4DF22.IMG 2014-03-23"
      ]
     },
     "execution_count": 22,
     "metadata": {},
     "output_type": "execute_result"
    }
   ],
   "source": [
    "pre.head()"
   ]
  },
  {
   "cell_type": "code",
   "execution_count": 23,
   "id": "d2fdd269-5dba-4765-a67d-11ab074381b0",
   "metadata": {},
   "outputs": [
    {
     "data": {
      "text/html": [
       "<div>\n",
       "<style scoped>\n",
       "    .dataframe tbody tr th:only-of-type {\n",
       "        vertical-align: middle;\n",
       "    }\n",
       "\n",
       "    .dataframe tbody tr th {\n",
       "        vertical-align: top;\n",
       "    }\n",
       "\n",
       "    .dataframe thead th {\n",
       "        text-align: right;\n",
       "    }\n",
       "</style>\n",
       "<table border=\"1\" class=\"dataframe\">\n",
       "  <thead>\n",
       "    <tr style=\"text-align: right;\">\n",
       "      <th></th>\n",
       "      <th>facet_id</th>\n",
       "      <th>product_id</th>\n",
       "      <th>date</th>\n",
       "    </tr>\n",
       "  </thead>\n",
       "  <tbody>\n",
       "    <tr>\n",
       "      <th>0</th>\n",
       "      <td>8035</td>\n",
       "      <td>N20151004T140446763ID50F22.IMG</td>\n",
       "      <td>2015-10-04</td>\n",
       "    </tr>\n",
       "    <tr>\n",
       "      <th>1</th>\n",
       "      <td>8035</td>\n",
       "      <td>N20151004T140458809ID50F22.IMG</td>\n",
       "      <td>2015-10-04</td>\n",
       "    </tr>\n",
       "    <tr>\n",
       "      <th>2</th>\n",
       "      <td>8035</td>\n",
       "      <td>N20151004T140946786ID50F22.IMG</td>\n",
       "      <td>2015-10-04</td>\n",
       "    </tr>\n",
       "    <tr>\n",
       "      <th>3</th>\n",
       "      <td>8035</td>\n",
       "      <td>N20151004T140959804ID50F22.IMG</td>\n",
       "      <td>2015-10-04</td>\n",
       "    </tr>\n",
       "    <tr>\n",
       "      <th>4</th>\n",
       "      <td>8035</td>\n",
       "      <td>N20151004T141011160ID50F24.IMG</td>\n",
       "      <td>2015-10-04</td>\n",
       "    </tr>\n",
       "  </tbody>\n",
       "</table>\n",
       "</div>"
      ],
      "text/plain": [
       "   facet_id                      product_id       date\n",
       "0      8035  N20151004T140446763ID50F22.IMG 2015-10-04\n",
       "1      8035  N20151004T140458809ID50F22.IMG 2015-10-04\n",
       "2      8035  N20151004T140946786ID50F22.IMG 2015-10-04\n",
       "3      8035  N20151004T140959804ID50F22.IMG 2015-10-04\n",
       "4      8035  N20151004T141011160ID50F24.IMG 2015-10-04"
      ]
     },
     "execution_count": 23,
     "metadata": {},
     "output_type": "execute_result"
    }
   ],
   "source": [
    "post.head()"
   ]
  },
  {
   "cell_type": "code",
   "execution_count": 34,
   "id": "1bc1722e-70f6-4592-b509-7c23d4331e9a",
   "metadata": {},
   "outputs": [],
   "source": [
    "pre_images = pre.product_id.unique().compute()\n",
    "post_images = post.product_id.unique().compute()"
   ]
  },
  {
   "cell_type": "code",
   "execution_count": 38,
   "id": "28817eb2-aa89-4d8c-bb1c-bcea1acfbf17",
   "metadata": {},
   "outputs": [],
   "source": [
    "pre_images = pre_images.to_list()\n",
    "post_images = post_images.to_list()"
   ]
  },
  {
   "cell_type": "code",
   "execution_count": 39,
   "id": "ca91afa6-f410-4c33-b9a3-ec2353647f3f",
   "metadata": {},
   "outputs": [],
   "source": [
    "pre_test = pre_images[0]"
   ]
  },
  {
   "cell_type": "code",
   "execution_count": 40,
   "id": "0a952321-c9b0-4b4c-b8ea-f62e804a7053",
   "metadata": {},
   "outputs": [
    {
     "data": {
      "text/plain": [
       "'N20140320T023010669ID30F22.IMG'"
      ]
     },
     "execution_count": 40,
     "metadata": {},
     "output_type": "execute_result"
    }
   ],
   "source": [
    "pre_test"
   ]
  },
  {
   "cell_type": "code",
   "execution_count": 41,
   "id": "f369c93f-9a07-43f4-886b-e71949f18aa0",
   "metadata": {},
   "outputs": [],
   "source": [
    "pre_facets = pre[pre.product_id==pre_test].compute()"
   ]
  },
  {
   "cell_type": "code",
   "execution_count": 42,
   "id": "6adf39dd-926e-4454-9b3e-334926179b1c",
   "metadata": {},
   "outputs": [
    {
     "data": {
      "text/html": [
       "<div>\n",
       "<style scoped>\n",
       "    .dataframe tbody tr th:only-of-type {\n",
       "        vertical-align: middle;\n",
       "    }\n",
       "\n",
       "    .dataframe tbody tr th {\n",
       "        vertical-align: top;\n",
       "    }\n",
       "\n",
       "    .dataframe thead th {\n",
       "        text-align: right;\n",
       "    }\n",
       "</style>\n",
       "<table border=\"1\" class=\"dataframe\">\n",
       "  <thead>\n",
       "    <tr style=\"text-align: right;\">\n",
       "      <th></th>\n",
       "      <th>facet_id</th>\n",
       "      <th>product_id</th>\n",
       "      <th>date</th>\n",
       "    </tr>\n",
       "  </thead>\n",
       "  <tbody>\n",
       "    <tr>\n",
       "      <th>1979</th>\n",
       "      <td>8036</td>\n",
       "      <td>N20140320T023010669ID30F22.IMG</td>\n",
       "      <td>2014-03-20</td>\n",
       "    </tr>\n",
       "    <tr>\n",
       "      <th>17953</th>\n",
       "      <td>8037</td>\n",
       "      <td>N20140320T023010669ID30F22.IMG</td>\n",
       "      <td>2014-03-20</td>\n",
       "    </tr>\n",
       "    <tr>\n",
       "      <th>34864</th>\n",
       "      <td>8038</td>\n",
       "      <td>N20140320T023010669ID30F22.IMG</td>\n",
       "      <td>2014-03-20</td>\n",
       "    </tr>\n",
       "    <tr>\n",
       "      <th>41451</th>\n",
       "      <td>8039</td>\n",
       "      <td>N20140320T023010669ID30F22.IMG</td>\n",
       "      <td>2014-03-20</td>\n",
       "    </tr>\n",
       "    <tr>\n",
       "      <th>58347</th>\n",
       "      <td>8040</td>\n",
       "      <td>N20140320T023010669ID30F22.IMG</td>\n",
       "      <td>2014-03-20</td>\n",
       "    </tr>\n",
       "    <tr>\n",
       "      <th>...</th>\n",
       "      <td>...</td>\n",
       "      <td>...</td>\n",
       "      <td>...</td>\n",
       "    </tr>\n",
       "    <tr>\n",
       "      <th>591185</th>\n",
       "      <td>8031</td>\n",
       "      <td>N20140320T023010669ID30F22.IMG</td>\n",
       "      <td>2014-03-20</td>\n",
       "    </tr>\n",
       "    <tr>\n",
       "      <th>607569</th>\n",
       "      <td>8032</td>\n",
       "      <td>N20140320T023010669ID30F22.IMG</td>\n",
       "      <td>2014-03-20</td>\n",
       "    </tr>\n",
       "    <tr>\n",
       "      <th>632553</th>\n",
       "      <td>8033</td>\n",
       "      <td>N20140320T023010669ID30F22.IMG</td>\n",
       "      <td>2014-03-20</td>\n",
       "    </tr>\n",
       "    <tr>\n",
       "      <th>638566</th>\n",
       "      <td>8034</td>\n",
       "      <td>N20140320T023010669ID30F22.IMG</td>\n",
       "      <td>2014-03-20</td>\n",
       "    </tr>\n",
       "    <tr>\n",
       "      <th>644600</th>\n",
       "      <td>8035</td>\n",
       "      <td>N20140320T023010669ID30F22.IMG</td>\n",
       "      <td>2014-03-20</td>\n",
       "    </tr>\n",
       "  </tbody>\n",
       "</table>\n",
       "<p>39056 rows × 3 columns</p>\n",
       "</div>"
      ],
      "text/plain": [
       "        facet_id                      product_id       date\n",
       "1979        8036  N20140320T023010669ID30F22.IMG 2014-03-20\n",
       "17953       8037  N20140320T023010669ID30F22.IMG 2014-03-20\n",
       "34864       8038  N20140320T023010669ID30F22.IMG 2014-03-20\n",
       "41451       8039  N20140320T023010669ID30F22.IMG 2014-03-20\n",
       "58347       8040  N20140320T023010669ID30F22.IMG 2014-03-20\n",
       "...          ...                             ...        ...\n",
       "591185      8031  N20140320T023010669ID30F22.IMG 2014-03-20\n",
       "607569      8032  N20140320T023010669ID30F22.IMG 2014-03-20\n",
       "632553      8033  N20140320T023010669ID30F22.IMG 2014-03-20\n",
       "638566      8034  N20140320T023010669ID30F22.IMG 2014-03-20\n",
       "644600      8035  N20140320T023010669ID30F22.IMG 2014-03-20\n",
       "\n",
       "[39056 rows x 3 columns]"
      ]
     },
     "execution_count": 42,
     "metadata": {},
     "output_type": "execute_result"
    }
   ],
   "source": [
    "pre_facets"
   ]
  },
  {
   "cell_type": "code",
   "execution_count": 44,
   "id": "6d6e03bc-3a90-4f47-82f8-fa3868057a74",
   "metadata": {},
   "outputs": [
    {
     "data": {
      "text/plain": [
       "array([8036, 8037, 8038, ..., 8033, 8034, 8035], dtype=int16)"
      ]
     },
     "execution_count": 44,
     "metadata": {},
     "output_type": "execute_result"
    }
   ],
   "source": [
    "pre_facets.facet_id.values"
   ]
  },
  {
   "cell_type": "code",
   "execution_count": 45,
   "id": "6e760790-732c-4a63-a727-7cff5c3cdd71",
   "metadata": {},
   "outputs": [
    {
     "data": {
      "text/plain": [
       "39056"
      ]
     },
     "execution_count": 45,
     "metadata": {},
     "output_type": "execute_result"
    }
   ],
   "source": [
    "len(pre_facets.facet_id.values)"
   ]
  },
  {
   "cell_type": "markdown",
   "id": "332fff3a-9463-4f6f-a60c-ac65b9d34321",
   "metadata": {},
   "source": [
    "Need to pre-process so that each image is associated with the list of ~40k facets (could be many more for images taken from far away?)"
   ]
  }
 ],
 "metadata": {
  "kernelspec": {
   "display_name": "zoo",
   "language": "python",
   "name": "zoo"
  },
  "language_info": {
   "codemirror_mode": {
    "name": "ipython",
    "version": 3
   },
   "file_extension": ".py",
   "mimetype": "text/x-python",
   "name": "python",
   "nbconvert_exporter": "python",
   "pygments_lexer": "ipython3",
   "version": "3.7.12"
  }
 },
 "nbformat": 4,
 "nbformat_minor": 5
}
